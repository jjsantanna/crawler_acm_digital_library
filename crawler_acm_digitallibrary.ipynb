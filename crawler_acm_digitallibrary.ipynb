{
 "cells": [
  {
   "cell_type": "markdown",
   "metadata": {},
   "source": [
    "# CRAWLER AND SCRAPER OF ACM DIGITAL LIBRARY"
   ]
  },
  {
   "cell_type": "markdown",
   "metadata": {},
   "source": [
    "## NEEDED LIBRARIES"
   ]
  },
  {
   "cell_type": "code",
   "execution_count": null,
   "metadata": {},
   "outputs": [],
   "source": [
    "import pandas as pd\n",
    "import cfscrape\n",
    "from lxml import etree"
   ]
  },
  {
   "cell_type": "markdown",
   "metadata": {},
   "source": [
    "## SET OF KEYWORDS"
   ]
  },
  {
   "cell_type": "code",
   "execution_count": null,
   "metadata": {},
   "outputs": [],
   "source": [
    "keywords = ['Cloud Security']"
   ]
  },
  {
   "cell_type": "markdown",
   "metadata": {},
   "source": [
    "## INSTANTIATING THE CRAWLER AND DEFINING AN REALISTIC HEADER "
   ]
  },
  {
   "cell_type": "code",
   "execution_count": null,
   "metadata": {},
   "outputs": [],
   "source": [
    "scraper = cfscrape.create_scraper()\n",
    "\n",
    "header = {'Accept': 'text/html,application/xhtml+xml,application/xml;q=0.9',\n",
    "          'Accept-Encoding': 'gzip, deflate, sdch',\n",
    "          'Accept-Language' : 'nl-NL,nl;q=0.8,en-US;q=0.6,en;q=0.4',\n",
    "          'Cache-Control' : 'max-age=0',\n",
    "          'Connection': 'keep-alive',\n",
    "          'User-Agent': 'Mozilla/5.0 (Macintosh; Intel Mac OS X 10_14_6) AppleWebKit/605.1.15 (KHTML, like Gecko) Version/12.1.2 Safari/605.1.15'}"
   ]
  },
  {
   "cell_type": "markdown",
   "metadata": {},
   "source": [
    "## READING OLD DATASET FOR APPENDING or CREATE A NEW (EMPTY) DATAFRAME"
   ]
  },
  {
   "cell_type": "code",
   "execution_count": null,
   "metadata": {},
   "outputs": [],
   "source": [
    "# df= pd.read_csv('20191001_acm_dl_ddos_papers.csv').drop(['Unnamed: 0'],axis=1)\n",
    "df = pd.DataFrame(columns=['links'])"
   ]
  },
  {
   "cell_type": "markdown",
   "metadata": {},
   "source": [
    "## LOOP FOR CRAWLING AND SCRAPPING (IN 2 LEVELS) ALL ENTRIES RELATED TO THE SET OF KEYWORDS "
   ]
  },
  {
   "cell_type": "code",
   "execution_count": null,
   "metadata": {},
   "outputs": [],
   "source": [
    "for keyword in keywords:\n",
    "    page = 1 \n",
    "    while True:\n",
    "        print(page,keyword)\n",
    "        \n",
    "        keyword = keyword.replace(' ','+')\n",
    "        url = \"https://dl.acm.org/results.cfm?query=%22\"+keyword+\"%22&start=\"+str((page-1)*20)+\"&filtered=&within=owners%2Eowner%3DHOSTED&dte=&bfr=&srt=%5Fscore\"\n",
    "        print(url)\n",
    "        \n",
    "        scraped_html=scraper.get(url,headers=header).content\n",
    "        html = etree.HTML(scraped_html)\n",
    "        \n",
    "        max_entries = html.xpath(\"//div[@class='pagerange']/text()\")[0].split()[-1]\n",
    "        if (page-1)*20 > int(max_entries):\n",
    "            break\n",
    "        \n",
    "        df_temp = pd.DataFrame()\n",
    "        \n",
    "        #Crawler first level\n",
    "        title = []\n",
    "        links = []\n",
    "        publication_date = []\n",
    "        venue=[]\n",
    "\n",
    "        for entry in html.xpath(\"//div[@class='title']/a\"):\n",
    "            try:\n",
    "                title.append(entry.xpath(\"text()\")[0])\n",
    "            except:\n",
    "                title.append(\"\")\n",
    "\n",
    "            try: \n",
    "                links.append('https://dl.acm.org/'+entry.xpath(\"@href\")[0]+'&preflayout=flat')\n",
    "            except:\n",
    "                links.append(\"\")\n",
    "\n",
    "        for entry in html.xpath(\"//div[@class='source']\"): \n",
    "            try:\n",
    "                publication_date.append(entry.xpath(\"span[@class='publicationDate']/text()\")[0])\n",
    "            except:\n",
    "                publication_date.append(\"\")\n",
    "\n",
    "            try:\n",
    "                venue.append(entry.xpath(\"span[@style='padding-left:10px']/text()\")[0])\n",
    "            except:\n",
    "                venue.append(\"\")\n",
    "\n",
    "        df_temp = pd.DataFrame({'title': title,'links': links,'publication_date': publication_date,'venue': venue,})\n",
    "    \n",
    "        #Crawler second level\n",
    "        for link in df_temp['links']:\n",
    "            print(link)\n",
    "            # CHECK IF THE LINK ALREADY EXIST\n",
    "            if len(df[df['links']==link]) >0:\n",
    "                df_temp.drop(df_temp.loc[df_temp['links']==link].index, inplace=True)\n",
    "                print(\"duplicated\")\n",
    "                continue\n",
    "                \n",
    "            \n",
    "            scraped_html=scraper.get(link,headers=header).content\n",
    "            html = etree.HTML(scraped_html)\n",
    "\n",
    "            index_current = df_temp.index[df_temp['links'] == link][0]\n",
    "\n",
    "            try:\n",
    "                df_temp.at[index_current, 'link4download'] = \"https://dl.acm.org/\" + html.xpath(\"//table[@class='medium-text']/tr/td/a/@href\")[0]\n",
    "            except:\n",
    "                df_temp.at[index_current, 'link4download'] = \"\"\n",
    "\n",
    "            try:\n",
    "                df_temp.at[index_current, 'num_citations'] = [x for x in html.xpath(\"//table[@class='medium-text']/tr/td[@class='small-text']/text()\") if 'Citation' in x][0].replace('\\n','').replace('·\\xa0','').replace('Citation Count: ','')\n",
    "            except:\n",
    "                df_temp.at[index_current, 'num_citations'] =\"\"\n",
    "\n",
    "            try:\n",
    "                df_temp.at[index_current, 'num_downloads_cu'] = [x for x in html.xpath(\"//table[@class='medium-text']/tr/td[@class='small-text']/text()\") if 'Downloads (cumulative)' in x][0].replace('\\n','').replace('·\\xa0','').replace('Downloads (cumulative): ','')\n",
    "            except:\n",
    "                df_temp.at[index_current, 'num_downloads_cu'] =\"\"\n",
    "\n",
    "            try:\n",
    "                df_temp.at[index_current, 'abstract'] = html.xpath(\"//div[@style='display:inline']/p/text()\")[0]\n",
    "            except:\n",
    "                try: \n",
    "                    df_temp.at[index_current, 'abstract'] = html.xpath(\"//div[@style='display:inline']/text()\")[0]\n",
    "                except:\n",
    "                    try:\n",
    "                        df_temp.at[index_current, 'abstract'] = html.xpath(\"//div[@class='flatbody']/div/text()\")[0].replace('\\n','')\n",
    "                    except:\n",
    "                        df_temp.at[index_current, 'abstract'] = \"\"\n",
    "        \n",
    "        df = df.append(df_temp,ignore_index=True)\n",
    "        display(df.tail(1))\n",
    "        \n",
    "        page = page + 1"
   ]
  },
  {
   "cell_type": "code",
   "execution_count": null,
   "metadata": {},
   "outputs": [],
   "source": [
    "df.to_csv('20191111_acm_dl_cloud_security.csv')"
   ]
  },
  {
   "cell_type": "markdown",
   "metadata": {},
   "source": [
    "<h1 align='center'>============================================================</h1>"
   ]
  },
  {
   "cell_type": "markdown",
   "metadata": {},
   "source": [
    "## DEBUGGING ERROS 1ST LEVEL CRAWLER"
   ]
  },
  {
   "cell_type": "code",
   "execution_count": null,
   "metadata": {},
   "outputs": [],
   "source": [
    "url=\"https://dl.acm.org/results.cfm?query=%22denial+of+service%22&start=300&filtered=&within=owners%2Eowner%3DHOSTED&dte=&bfr=&srt=%5Fscore\""
   ]
  },
  {
   "cell_type": "code",
   "execution_count": null,
   "metadata": {},
   "outputs": [],
   "source": [
    "scraped_html=scraper.get(url,headers=header).content\n",
    "print(scraped_html)"
   ]
  },
  {
   "cell_type": "code",
   "execution_count": null,
   "metadata": {},
   "outputs": [],
   "source": [
    "html = etree.HTML(scraped_html)\n",
    "\n",
    "df_temp = pd.DataFrame()\n",
    "title = []\n",
    "links = []\n",
    "publication_date = []\n",
    "venue=[]\n",
    "\n",
    "for entry in html.xpath(\"//div[@class='title']/a\"):\n",
    "    try:\n",
    "        title.append(entry.xpath(\"text()\")[0])\n",
    "    except:\n",
    "        title.append(\"\")\n",
    "    \n",
    "    try: \n",
    "        links.append('https://dl.acm.org/'+entry.xpath(\"@href\")[0]+'&preflayout=flat')\n",
    "    except:\n",
    "        links.append(\"\")\n",
    "\n",
    "for entry in html.xpath(\"//div[@class='source']\"): \n",
    "    try:\n",
    "        publication_date.append(entry.xpath(\"span[@class='publicationDate']/text()\")[0])\n",
    "    except:\n",
    "        publication_date.append(\"\")\n",
    "    \n",
    "    try:\n",
    "        venue.append(entry.xpath(\"span[@style='padding-left:10px']/text()\")[0])\n",
    "    except:\n",
    "        venue.append(\"\")\n",
    "\n",
    "df_temp = pd.DataFrame({'title': title,'links': links,'publication_date': publication_date,'venue': venue,})"
   ]
  },
  {
   "cell_type": "markdown",
   "metadata": {},
   "source": [
    "## DEBUGING ERROS 2nd LEVEL CRAWLER"
   ]
  },
  {
   "cell_type": "code",
   "execution_count": null,
   "metadata": {},
   "outputs": [],
   "source": [
    "link = \"https://dl.acm.org/citation.cfm?id=372148&preflayout=flat\""
   ]
  },
  {
   "cell_type": "code",
   "execution_count": null,
   "metadata": {},
   "outputs": [],
   "source": [
    "scraped_html=scraper.get(link,headers=header).content\n",
    "print(scraped_html)"
   ]
  },
  {
   "cell_type": "code",
   "execution_count": null,
   "metadata": {},
   "outputs": [],
   "source": [
    "html = etree.HTML(scraped_html)\n",
    "\n",
    "df_temp = pd.DataFrame()\n",
    "index_current = 0\n",
    "\n",
    "try:\n",
    "    df_temp.at[index_current, 'link4download'] = \"https://dl.acm.org/\" + html.xpath(\"//table[@class='medium-text']/tr/td/a/@href\")[0]\n",
    "except:\n",
    "    df_temp.at[index_current, 'link4download'] = \"\"\n",
    "\n",
    "try:\n",
    "    df_temp.at[index_current, 'num_citations'] = [x for x in html.xpath(\"//table[@class='medium-text']/tr/td[@class='small-text']/text()\") if 'Citation' in x][0].replace('\\n','').replace('·\\xa0','').replace('Citation Count: ','')\n",
    "except:\n",
    "    df_temp.at[index_current, 'num_citations'] =\"\"\n",
    "\n",
    "try:\n",
    "    df_temp.at[index_current, 'num_downloads_cu'] = [x for x in html.xpath(\"//table[@class='medium-text']/tr/td[@class='small-text']/text()\") if 'Downloads (cumulative)' in x][0].replace('\\n','').replace('·\\xa0','').replace('Downloads (cumulative): ','')\n",
    "except:\n",
    "    df_temp.at[index_current, 'num_downloads_cu'] =\"\"\n",
    "\n",
    "try:\n",
    "    df_temp.at[index_current, 'abstract'] = html.xpath(\"//div[@style='display:inline']/p/text()\")[0]\n",
    "except:\n",
    "    try: \n",
    "        df_temp.at[index_current, 'abstract'] = html.xpath(\"//div[@style='display:inline']/text()\")[0]\n",
    "    except:\n",
    "        try:\n",
    "            df_temp.at[index_current, 'abstract'] = html.xpath(\"//div[@class='flatbody']/div/text()\")[0].replace('\\n','')\n",
    "        except:\n",
    "            df_temp.at[index_current, 'abstract'] = \"\"\n",
    "\n",
    "df_temp"
   ]
  },
  {
   "cell_type": "markdown",
   "metadata": {},
   "source": [
    "<h1 align='center'>###############################################################<br>OFFLINE PROCESSING THE DATA</h1>"
   ]
  },
  {
   "cell_type": "code",
   "execution_count": 122,
   "metadata": {},
   "outputs": [],
   "source": [
    "import pandas as pd\n",
    "pd.set_option('display.max_columns', None)  \n",
    "pd.set_option('display.max_colwidth', -1)"
   ]
  },
  {
   "cell_type": "markdown",
   "metadata": {},
   "source": [
    "## READING THE DATAFRAME "
   ]
  },
  {
   "cell_type": "code",
   "execution_count": 85,
   "metadata": {},
   "outputs": [],
   "source": [
    "df= pd.read_csv('20191111_acm_dl_cloud_security.csv',index_col=0)"
   ]
  },
  {
   "cell_type": "markdown",
   "metadata": {},
   "source": [
    "## QUICK PREVIEW OF THE DATA"
   ]
  },
  {
   "cell_type": "code",
   "execution_count": 86,
   "metadata": {},
   "outputs": [
    {
     "data": {
      "text/html": [
       "<div>\n",
       "<style scoped>\n",
       "    .dataframe tbody tr th:only-of-type {\n",
       "        vertical-align: middle;\n",
       "    }\n",
       "\n",
       "    .dataframe tbody tr th {\n",
       "        vertical-align: top;\n",
       "    }\n",
       "\n",
       "    .dataframe thead th {\n",
       "        text-align: right;\n",
       "    }\n",
       "</style>\n",
       "<table border=\"1\" class=\"dataframe\">\n",
       "  <thead>\n",
       "    <tr style=\"text-align: right;\">\n",
       "      <th></th>\n",
       "      <th>abstract</th>\n",
       "      <th>link4download</th>\n",
       "      <th>links</th>\n",
       "      <th>num_citations</th>\n",
       "      <th>num_downloads_cu</th>\n",
       "      <th>publication_date</th>\n",
       "      <th>title</th>\n",
       "      <th>venue</th>\n",
       "    </tr>\n",
       "  </thead>\n",
       "  <tbody>\n",
       "    <tr>\n",
       "      <th>0</th>\n",
       "      <td>Most of the problems facing the designers of a...</td>\n",
       "      <td>https://dl.acm.org/ft_gateway.cfm?id=2046668&amp;f...</td>\n",
       "      <td>https://dl.acm.org/citation.cfm?id=2046668&amp;pre...</td>\n",
       "      <td>0</td>\n",
       "      <td>2,103</td>\n",
       "      <td>October 2011</td>\n",
       "      <td>What's different about security in a public cl...</td>\n",
       "      <td>CCSW '11: Proceedings of the 3rd ACM workshop ...</td>\n",
       "    </tr>\n",
       "    <tr>\n",
       "      <th>1</th>\n",
       "      <td>Cloud computing has become increasingly popula...</td>\n",
       "      <td>https://dl.acm.org/ft_gateway.cfm?id=2046662&amp;f...</td>\n",
       "      <td>https://dl.acm.org/citation.cfm?id=2046662&amp;pre...</td>\n",
       "      <td>0</td>\n",
       "      <td>845</td>\n",
       "      <td>October 2011</td>\n",
       "      <td>Clouds and their discontents</td>\n",
       "      <td>CCSW '11: Proceedings of the 3rd ACM workshop ...</td>\n",
       "    </tr>\n",
       "    <tr>\n",
       "      <th>2</th>\n",
       "      <td>Can the cloud truly be secured? Can enterprise...</td>\n",
       "      <td>https://dl.acm.org/ft_gateway.cfm?id=2046674&amp;f...</td>\n",
       "      <td>https://dl.acm.org/citation.cfm?id=2046674&amp;pre...</td>\n",
       "      <td>0</td>\n",
       "      <td>1,975</td>\n",
       "      <td>October 2011</td>\n",
       "      <td>Cloud security: myth or reality?</td>\n",
       "      <td>CCSW '11: Proceedings of the 3rd ACM workshop ...</td>\n",
       "    </tr>\n",
       "    <tr>\n",
       "      <th>3</th>\n",
       "      <td>Cloud computing is a long fantasized visualiza...</td>\n",
       "      <td>https://dl.acm.org/ft_gateway.cfm?id=2331767&amp;f...</td>\n",
       "      <td>https://dl.acm.org/citation.cfm?id=2331767&amp;pre...</td>\n",
       "      <td>6</td>\n",
       "      <td>2,259</td>\n",
       "      <td>March 2012</td>\n",
       "      <td>Different facets of security in the cloud</td>\n",
       "      <td>CNS '12: Proceedings of the 15th Communication...</td>\n",
       "    </tr>\n",
       "    <tr>\n",
       "      <th>4</th>\n",
       "      <td>It is recognized that the most important obsta...</td>\n",
       "      <td>https://dl.acm.org/ft_gateway.cfm?id=2536164&amp;f...</td>\n",
       "      <td>https://dl.acm.org/citation.cfm?id=2536164&amp;pre...</td>\n",
       "      <td>1</td>\n",
       "      <td>341</td>\n",
       "      <td>October 2013</td>\n",
       "      <td>A general approach for a trusted deployment of...</td>\n",
       "      <td>MEDES '13: Proceedings of the Fifth Internatio...</td>\n",
       "    </tr>\n",
       "  </tbody>\n",
       "</table>\n",
       "</div>"
      ],
      "text/plain": [
       "                                            abstract  \\\n",
       "0  Most of the problems facing the designers of a...   \n",
       "1  Cloud computing has become increasingly popula...   \n",
       "2  Can the cloud truly be secured? Can enterprise...   \n",
       "3  Cloud computing is a long fantasized visualiza...   \n",
       "4  It is recognized that the most important obsta...   \n",
       "\n",
       "                                       link4download  \\\n",
       "0  https://dl.acm.org/ft_gateway.cfm?id=2046668&f...   \n",
       "1  https://dl.acm.org/ft_gateway.cfm?id=2046662&f...   \n",
       "2  https://dl.acm.org/ft_gateway.cfm?id=2046674&f...   \n",
       "3  https://dl.acm.org/ft_gateway.cfm?id=2331767&f...   \n",
       "4  https://dl.acm.org/ft_gateway.cfm?id=2536164&f...   \n",
       "\n",
       "                                               links  num_citations  \\\n",
       "0  https://dl.acm.org/citation.cfm?id=2046668&pre...              0   \n",
       "1  https://dl.acm.org/citation.cfm?id=2046662&pre...              0   \n",
       "2  https://dl.acm.org/citation.cfm?id=2046674&pre...              0   \n",
       "3  https://dl.acm.org/citation.cfm?id=2331767&pre...              6   \n",
       "4  https://dl.acm.org/citation.cfm?id=2536164&pre...              1   \n",
       "\n",
       "  num_downloads_cu publication_date  \\\n",
       "0            2,103     October 2011   \n",
       "1              845     October 2011   \n",
       "2            1,975     October 2011   \n",
       "3            2,259       March 2012   \n",
       "4              341     October 2013   \n",
       "\n",
       "                                               title  \\\n",
       "0  What's different about security in a public cl...   \n",
       "1                       Clouds and their discontents   \n",
       "2                   Cloud security: myth or reality?   \n",
       "3          Different facets of security in the cloud   \n",
       "4  A general approach for a trusted deployment of...   \n",
       "\n",
       "                                               venue  \n",
       "0  CCSW '11: Proceedings of the 3rd ACM workshop ...  \n",
       "1  CCSW '11: Proceedings of the 3rd ACM workshop ...  \n",
       "2  CCSW '11: Proceedings of the 3rd ACM workshop ...  \n",
       "3  CNS '12: Proceedings of the 15th Communication...  \n",
       "4  MEDES '13: Proceedings of the Fifth Internatio...  "
      ]
     },
     "execution_count": 86,
     "metadata": {},
     "output_type": "execute_result"
    }
   ],
   "source": [
    "df.head()"
   ]
  },
  {
   "cell_type": "markdown",
   "metadata": {},
   "source": [
    "## Showing most downloaded title of papers"
   ]
  },
  {
   "cell_type": "code",
   "execution_count": null,
   "metadata": {},
   "outputs": [],
   "source": [
    "df['num_downloads_cu'] = pd.to_numeric(df['num_downloads_cu'].str.replace(',',''),errors='coerce')"
   ]
  },
  {
   "cell_type": "code",
   "execution_count": 121,
   "metadata": {},
   "outputs": [
    {
     "data": {
      "text/plain": [
       "57     Cloud security: a gathering storm                                                                                                       \n",
       "115    ACSAC '13: Proceedings of the 29th Annual Computer Security Applications Conference                                                     \n",
       "88     Augmented-reality glasses bring cloud security into sharp focus                                                                         \n",
       "141    CCSW '12: Proceedings of the 2012 ACM Workshop on Cloud computing security workshop                                                     \n",
       "160    CloudDB '10: Proceedings of the second international workshop on Cloud data management                                                  \n",
       "168    CCSW '14: Proceedings of the 6th edition of the ACM Workshop on Cloud Computing Security                                                \n",
       "100    Cloud security is not (just) virtualization security: a short paper                                                                     \n",
       "165    CCSW '13: Proceedings of the 2013 ACM workshop on Cloud computing security workshop                                                     \n",
       "170    New approaches to security and availability for cloud data                                                                              \n",
       "111    State-of-the-art cloud computing security taxonomies: a classification of security challenges in the present cloud computing environment\n",
       "122    CCSW '17: Proceedings of the 2017 on Cloud Computing Security Workshop                                                                  \n",
       "112    From Security to Assurance in the Cloud: A Survey                                                                                       \n",
       "144    HinDroid: An Intelligent Android Malware Detection System Based on Structured Heterogeneous Information Network                         \n",
       "113    CASCON '18: Proceedings of the 28th Annual International Conference on Computer Science and Software Engineering                        \n",
       "3      Different facets of security in the cloud                                                                                               \n",
       "0      What's different about security in a public cloud?                                                                                      \n",
       "151    SCC '16: Proceedings of the 4th ACM International Workshop on Security in Cloud Computing                                               \n",
       "74     Cross-Tenant Side-Channel Attacks in PaaS Clouds                                                                                        \n",
       "2      Cloud security: myth or reality?                                                                                                        \n",
       "123    SCC '17: Proceedings of the Fifth ACM International Workshop on Security in Cloud Computing                                             \n",
       "Name: title, dtype: object"
      ]
     },
     "execution_count": 121,
     "metadata": {},
     "output_type": "execute_result"
    }
   ],
   "source": [
    "df.sort_values(by='num_downloads_cu',ascending=False)['title'].head(20)"
   ]
  },
  {
   "cell_type": "code",
   "execution_count": 120,
   "metadata": {},
   "outputs": [],
   "source": []
  },
  {
   "cell_type": "markdown",
   "metadata": {},
   "source": [
    "## Count frequency of words in the title"
   ]
  },
  {
   "cell_type": "code",
   "execution_count": 95,
   "metadata": {},
   "outputs": [],
   "source": [
    "title_word_freq = df['title'].str.lower().str.split(expand=True).stack().value_counts()"
   ]
  },
  {
   "cell_type": "code",
   "execution_count": 123,
   "metadata": {},
   "outputs": [
    {
     "data": {
      "text/plain": [
       "cloud       101\n",
       "security    77 \n",
       "the         59 \n",
       "of          55 \n",
       "for         53 \n",
       "dtype: int64"
      ]
     },
     "execution_count": 123,
     "metadata": {},
     "output_type": "execute_result"
    }
   ],
   "source": [
    "title_word_freq.head()"
   ]
  },
  {
   "cell_type": "markdown",
   "metadata": {},
   "source": [
    "## Removing stop-words"
   ]
  },
  {
   "cell_type": "code",
   "execution_count": 124,
   "metadata": {},
   "outputs": [],
   "source": [
    "import nltk"
   ]
  },
  {
   "cell_type": "code",
   "execution_count": 125,
   "metadata": {},
   "outputs": [
    {
     "name": "stderr",
     "output_type": "stream",
     "text": [
      "[nltk_data] Downloading package stopwords to /Users/nw/nltk_data...\n",
      "[nltk_data]   Package stopwords is already up-to-date!\n"
     ]
    }
   ],
   "source": [
    "nltk.download('stopwords')\n",
    "stopwords = nltk.corpus.stopwords.words('english')"
   ]
  },
  {
   "cell_type": "code",
   "execution_count": 126,
   "metadata": {},
   "outputs": [],
   "source": [
    "title_word_freq_nostopwords = title_word_freq.drop(stopwords,errors='ignore')"
   ]
  },
  {
   "cell_type": "code",
   "execution_count": 127,
   "metadata": {},
   "outputs": [
    {
     "data": {
      "text/plain": [
       "cloud            101\n",
       "security         77 \n",
       "data             32 \n",
       "computing        24 \n",
       "secure           15 \n",
       "proceedings      14 \n",
       "workshop         13 \n",
       "framework        13 \n",
       "clouds           11 \n",
       "privacy          10 \n",
       "based            9  \n",
       "system           9  \n",
       "services         9  \n",
       "encryption       8  \n",
       "scheme           7  \n",
       "international    7  \n",
       "using            7  \n",
       "cloud:           6  \n",
       "control          6  \n",
       "information      6  \n",
       "private          6  \n",
       "storage          6  \n",
       "management       6  \n",
       "securing         6  \n",
       "acm              6  \n",
       "applications     5  \n",
       "analysis         5  \n",
       "sharing          5  \n",
       "systems          5  \n",
       "service          5  \n",
       "malware          5  \n",
       "detection        5  \n",
       "environments     5  \n",
       "attacks          5  \n",
       "auditing         4  \n",
       "scc              4  \n",
       "environment      4  \n",
       "ccsw             4  \n",
       "session          4  \n",
       "challenges       4  \n",
       "conference       4  \n",
       "key              4  \n",
       "authorization    4  \n",
       "mobile           4  \n",
       "protection       4  \n",
       "dynamic          4  \n",
       "encrypted        4  \n",
       "security:        4  \n",
       "iaas             3  \n",
       "'18:             3  \n",
       "dtype: int64"
      ]
     },
     "execution_count": 127,
     "metadata": {},
     "output_type": "execute_result"
    }
   ],
   "source": [
    "title_word_freq_nostopwords.head(50)"
   ]
  },
  {
   "cell_type": "code",
   "execution_count": null,
   "metadata": {},
   "outputs": [],
   "source": []
  }
 ],
 "metadata": {
  "kernelspec": {
   "display_name": "Python 3",
   "language": "python",
   "name": "python3"
  },
  "language_info": {
   "codemirror_mode": {
    "name": "ipython",
    "version": 3
   },
   "file_extension": ".py",
   "mimetype": "text/x-python",
   "name": "python",
   "nbconvert_exporter": "python",
   "pygments_lexer": "ipython3",
   "version": "3.7.6"
  }
 },
 "nbformat": 4,
 "nbformat_minor": 2
}
